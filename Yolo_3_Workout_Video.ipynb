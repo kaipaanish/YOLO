{
  "cells": [
    {
      "cell_type": "code",
      "execution_count": null,
      "metadata": {
        "colab": {
          "base_uri": "https://localhost:8080/"
        },
        "id": "4aCVIT0gWZgf",
        "outputId": "e7b6d545-613d-4131-9d94-c3aee0a1ad54"
      },
      "outputs": [],
      "source": [
        "#!pip install ultralytics\n",
        "\n",
        "import cv2\n",
        "import ultralytics\n",
        "from ultralytics import solutions\n",
        "from ultralytics.utils.downloads import safe_download\n",
        "\n",
        "!apt-get install -y ffmpeg  # for video writing properly\n",
        "ultralytics.checks()"
      ]
    },
    {
      "cell_type": "code",
      "execution_count": null,
      "metadata": {
        "colab": {
          "base_uri": "https://localhost:8080/"
        },
        "id": "9BRCRyA1Zwv6",
        "outputId": "24286564-78c9-4af6-887c-351e63eb8e79"
      },
      "outputs": [],
      "source": [
        "exercises_list = [\"Legextension\", \"Legpress\", \"Squats\", \"Pushups\"]\n",
        "\n",
        "for exercise in exercises_list:\n",
        "    safe_download(f\"https://github.com/ultralytics/assets/releases/download/v0.0.0/{exercise}.demo.video.mp4\")"
      ]
    },
    {
      "cell_type": "code",
      "execution_count": null,
      "metadata": {
        "colab": {
          "base_uri": "https://localhost:8080/"
        },
        "id": "PUtulx-3aJc8",
        "outputId": "75dae6ee-3713-4f8c-f8fd-73c20ba92d25"
      },
      "outputs": [],
      "source": [
        "cap = cv2.VideoCapture(r\"C:\\Users\\anish\\Data Science with Gen AI\\YOLO\\workout\\content\\Pushups.demo.video.mp4\")\n",
        "\n",
        "assert cap.isOpened(), \"Error reading video file\"\n",
        "\n",
        "# Video writer\n",
        "w, h, fps = (int(cap.get(x)) for x in (cv2.CAP_PROP_FRAME_WIDTH, cv2.CAP_PROP_FRAME_HEIGHT, cv2.CAP_PROP_FPS))\n",
        "video_writer = cv2.VideoWriter(\"Pushups.demo.video.output.avi\", cv2.VideoWriter_fourcc(*\"mp4v\"), fps, (w, h))\n",
        "\n",
        "# Init AIGym\n",
        "gym = solutions.AIGym(\n",
        "    show=True,  # Display the frame\n",
        "    kpts=[5, 7, 9],  # keypoints index of person for monitoring specific exercise, by default it's for pushup\n",
        "    model=\"yolo11n-pose.pt\",  # Path to the YOLO11 pose estimation model file\n",
        "    line_width=4,  # Adjust the line width for bounding boxes and text display\n",
        "    verbose=False,\n",
        ")\n",
        "\n",
        "# Process video\n",
        "while cap.isOpened():\n",
        "    success, im0 = cap.read()\n",
        "    if not success:\n",
        "        print(\"Video frame is empty or video processing has been successfully completed.\")\n",
        "        break\n",
        "    results = gym(im0)  # monitor workouts on each frame\n",
        "    video_writer.write(results.plot_im)  # write the output frame in file.\n",
        "\n",
        "video_writer.release()"
      ]
    },
    {
      "cell_type": "code",
      "execution_count": null,
      "metadata": {
        "colab": {
          "base_uri": "https://localhost:8080/"
        },
        "id": "nGOCaQlOaQTP",
        "outputId": "e9aa8c7c-49e4-42fb-8800-ce28dd40e154"
      },
      "outputs": [],
      "source": [
        "cap = cv2.VideoCapture(r\"C:\\Users\\anish\\Data Science with Gen AI\\YOLO\\workout\\content\\Legextension.demo.video.mp4\")\n",
        "assert cap.isOpened(), \"Error reading video file\"\n",
        "\n",
        "# Video writer\n",
        "w, h, fps = (int(cap.get(x)) for x in (cv2.CAP_PROP_FRAME_WIDTH, cv2.CAP_PROP_FRAME_HEIGHT, cv2.CAP_PROP_FPS))\n",
        "video_writer = cv2.VideoWriter(\"Squats.demo.video.output.avi\", cv2.VideoWriter_fourcc(*\"mp4v\"), fps, (w, h))\n",
        "\n",
        "# Init AIGym\n",
        "gym = solutions.AIGym(\n",
        "    show=True,  # Display the frame\n",
        "    kpts=[5, 11, 13],  # keypoints index of person for monitoring specific exercise, by default it's for pushup\n",
        "    model=\"yolo11m-pose.pt\",  # Path to the YOLO11 pose estimation model file\n",
        "    line_width=4,  # Adjust the line width for bounding boxes and text display\n",
        "    verbose=False,\n",
        ")\n",
        "\n",
        "# Process video\n",
        "while cap.isOpened():\n",
        "    success, im0 = cap.read()\n",
        "    if not success:\n",
        "        print(\"Video frame is empty or video processing has been successfully completed.\")\n",
        "        break\n",
        "    results = gym(im0)  # monitor workouts on each frame\n",
        "    video_writer.write(results.plot_im)  # write the output frame in file.\n",
        "\n",
        "video_writer.release()"
      ]
    },
    {
      "cell_type": "code",
      "execution_count": null,
      "metadata": {},
      "outputs": [],
      "source": []
    }
  ],
  "metadata": {
    "colab": {
      "provenance": []
    },
    "kernelspec": {
      "display_name": "base",
      "language": "python",
      "name": "python3"
    },
    "language_info": {
      "codemirror_mode": {
        "name": "ipython",
        "version": 3
      },
      "file_extension": ".py",
      "mimetype": "text/x-python",
      "name": "python",
      "nbconvert_exporter": "python",
      "pygments_lexer": "ipython3",
      "version": "3.12.7"
    }
  },
  "nbformat": 4,
  "nbformat_minor": 0
}
